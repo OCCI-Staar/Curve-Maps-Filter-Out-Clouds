{
  "nbformat": 4,
  "nbformat_minor": 0,
  "metadata": {
    "colab": {
      "provenance": [],
      "collapsed_sections": [
        "p9xQQaAhAWNP",
        "vFPJ_lQa2Cfi",
        "I6CsnX4u1jQe",
        "fWN5RVTw3HFP"
      ],
      "authorship_tag": "ABX9TyMGFRXjF+Oz9hfhaOxaEtyO",
      "include_colab_link": true
    },
    "kernelspec": {
      "name": "python3",
      "display_name": "Python 3"
    },
    "language_info": {
      "name": "python"
    }
  },
  "cells": [
    {
      "cell_type": "markdown",
      "metadata": {
        "id": "view-in-github",
        "colab_type": "text"
      },
      "source": [
        "<a href=\"https://colab.research.google.com/github/OCCI-Staar/Curve-Maps-Filter-Out-Clouds/blob/main/Curve_Maps_SHP_No_Clouds.ipynb\" target=\"_parent\"><img src=\"https://colab.research.google.com/assets/colab-badge.svg\" alt=\"Open In Colab\"/></a>"
      ]
    },
    {
      "cell_type": "markdown",
      "source": [
        "# Note this **WILL** filter out clouds\n",
        "## Create a standard environment\n",
        "\n",
        "*   Simply Click [ ] in each script cell below\n",
        "\n",
        "*   If no errors, continue to 1)"
      ],
      "metadata": {
        "id": "p9xQQaAhAWNP"
      }
    },
    {
      "cell_type": "code",
      "execution_count": 1,
      "metadata": {
        "id": "mL7E8JAnUPDF",
        "colab": {
          "base_uri": "https://localhost:8080/"
        },
        "outputId": "02c04b7a-9e0f-4256-b3fe-525ef96adae4"
      },
      "outputs": [
        {
          "output_type": "stream",
          "name": "stdout",
          "text": [
            "--2024-06-20 19:31:47--  https://raw.githubusercontent.com/OCCI-Staar/Curve-Maps-Filter-Out-Clouds/main/required-info.txt\n",
            "Resolving raw.githubusercontent.com (raw.githubusercontent.com)... 185.199.108.133, 185.199.109.133, 185.199.110.133, ...\n",
            "Connecting to raw.githubusercontent.com (raw.githubusercontent.com)|185.199.108.133|:443... connected.\n",
            "HTTP request sent, awaiting response... 200 OK\n",
            "Length: 143 [text/plain]\n",
            "Saving to: ‘required-info.txt’\n",
            "\n",
            "\rrequired-info.txt     0%[                    ]       0  --.-KB/s               \rrequired-info.txt   100%[===================>]     143  --.-KB/s    in 0s      \n",
            "\n",
            "2024-06-20 19:31:47 (9.24 MB/s) - ‘required-info.txt’ saved [143/143]\n",
            "\n"
          ]
        }
      ],
      "source": [
        "#Just need the required versions from GitHub\n",
        "!wget -O required-info.txt https://raw.githubusercontent.com/OCCI-Staar/Curve-Maps-Filter-Out-Clouds/main/required-info.txt"
      ]
    },
    {
      "cell_type": "code",
      "source": [
        "# View the content of required-info.txt\n",
        "!cat required-info.txt\n",
        "\n",
        "# Install packages listed in required-info.txt\n",
        "!pip install -r required-info.txt"
      ],
      "metadata": {
        "id": "o71duZrfZM3y",
        "colab": {
          "base_uri": "https://localhost:8080/"
        },
        "outputId": "4cb132b1-7dff-40b9-f5cd-9bd13c5eadd8"
      },
      "execution_count": 2,
      "outputs": [
        {
          "output_type": "stream",
          "name": "stdout",
          "text": [
            "python==3.11\r\n",
            "pandas==2.2.2 \r\n",
            "geopandas==0.14.4 \r\n",
            "shapely==2.0.2 \r\n",
            "fiona==1.9.5 \r\n",
            "pyproj==3.6.1 \r\n",
            "geetools==0.6.11 \r\n",
            "earthengine-api==0.1.272\r\n",
            "\u001b[31mERROR: Could not find a version that satisfies the requirement python==3.11 (from versions: none)\u001b[0m\u001b[31m\n",
            "\u001b[0m\u001b[31mERROR: No matching distribution found for python==3.11\u001b[0m\u001b[31m\n",
            "\u001b[0m"
          ]
        }
      ]
    },
    {
      "cell_type": "code",
      "source": [
        "#Needed Libraries\n",
        "import ee\n",
        "import time\n",
        "import os\n",
        "import json\n",
        "import numpy as np\n",
        "import pandas as pd\n",
        "import geopandas as gpd\n",
        "from osgeo import gdal\n",
        "from datetime import datetime\n",
        "from geetools import batch\n",
        "import ipywidgets as widgets\n",
        "\n",
        "from IPython.display import display\n",
        "%matplotlib inline\n",
        "import matplotlib.pyplot as plt"
      ],
      "metadata": {
        "id": "YT2MBYfVnY_9",
        "colab": {
          "base_uri": "https://localhost:8080/",
          "height": 383
        },
        "outputId": "34da2476-a8e2-4e14-bb4a-c1ef34a51ee1"
      },
      "execution_count": 3,
      "outputs": [
        {
          "output_type": "error",
          "ename": "ModuleNotFoundError",
          "evalue": "No module named 'geetools'",
          "traceback": [
            "\u001b[0;31m---------------------------------------------------------------------------\u001b[0m",
            "\u001b[0;31mModuleNotFoundError\u001b[0m                       Traceback (most recent call last)",
            "\u001b[0;32m<ipython-input-3-1825b6e7924c>\u001b[0m in \u001b[0;36m<cell line: 11>\u001b[0;34m()\u001b[0m\n\u001b[1;32m      9\u001b[0m \u001b[0;32mfrom\u001b[0m \u001b[0mosgeo\u001b[0m \u001b[0;32mimport\u001b[0m \u001b[0mgdal\u001b[0m\u001b[0;34m\u001b[0m\u001b[0;34m\u001b[0m\u001b[0m\n\u001b[1;32m     10\u001b[0m \u001b[0;32mfrom\u001b[0m \u001b[0mdatetime\u001b[0m \u001b[0;32mimport\u001b[0m \u001b[0mdatetime\u001b[0m\u001b[0;34m\u001b[0m\u001b[0;34m\u001b[0m\u001b[0m\n\u001b[0;32m---> 11\u001b[0;31m \u001b[0;32mfrom\u001b[0m \u001b[0mgeetools\u001b[0m \u001b[0;32mimport\u001b[0m \u001b[0mbatch\u001b[0m\u001b[0;34m\u001b[0m\u001b[0;34m\u001b[0m\u001b[0m\n\u001b[0m\u001b[1;32m     12\u001b[0m \u001b[0;32mimport\u001b[0m \u001b[0mipywidgets\u001b[0m \u001b[0;32mas\u001b[0m \u001b[0mwidgets\u001b[0m\u001b[0;34m\u001b[0m\u001b[0;34m\u001b[0m\u001b[0m\n\u001b[1;32m     13\u001b[0m \u001b[0;34m\u001b[0m\u001b[0m\n",
            "\u001b[0;31mModuleNotFoundError\u001b[0m: No module named 'geetools'",
            "",
            "\u001b[0;31m---------------------------------------------------------------------------\u001b[0;32m\nNOTE: If your import is failing due to a missing package, you can\nmanually install dependencies using either !pip or !apt.\n\nTo view examples of installing some common dependencies, click the\n\"Open Examples\" button below.\n\u001b[0;31m---------------------------------------------------------------------------\u001b[0m\n"
          ],
          "errorDetails": {
            "actions": [
              {
                "action": "open_url",
                "actionText": "Open Examples",
                "url": "/notebooks/snippets/importing_libraries.ipynb"
              }
            ]
          }
        }
      ]
    },
    {
      "cell_type": "markdown",
      "source": [
        "# 1) Authenticate yourself through Google Earth Engine"
      ],
      "metadata": {
        "id": "vFPJ_lQa2Cfi"
      }
    },
    {
      "cell_type": "code",
      "source": [
        "#Authenticate the GEE User\n",
        "ee.Authenticate()\n",
        "# Verify if GEE server was authenticated\n",
        "try:\n",
        "  ee.Initialize()\n",
        "except ee.EEException as error:\n",
        "  print(f'ERROR: {error}')"
      ],
      "metadata": {
        "id": "45DcFduD0xmE"
      },
      "execution_count": null,
      "outputs": []
    },
    {
      "cell_type": "markdown",
      "source": [
        "# 2) Supply Satellite, Date Range, Field Name"
      ],
      "metadata": {
        "id": "I6CsnX4u1jQe"
      }
    },
    {
      "cell_type": "code",
      "metadata": {
        "id": "MkxFZgnzv192"
      },
      "source": [
        "satellite = \"COPERNICUS/S2_SR_HARMONIZED\" # @param [\"LANDSAT/LT04/C01/T1_SR\", \"LANDSAT/LT05/C01/T1_SR\", \"LANDSAT/LE07/C01/T1_SR\", \"LANDSAT/LC08/C01/T1_SR\", \"COPERNICUS/S2_SR_HARMONIZED\"]\n",
        "first_date = '2023-06-09'  #@param {type: \"date\"}\n",
        "last_date  = '2023-10-03'  #@param {type: \"date\"}\n",
        "field_name = \"L1\" #@param {type:\"string\"}\n",
        "\n",
        "#Preset variables for filtering clouds\n",
        "CLOUD_FILTER = 100\n",
        "CLD_PRB_THRESH = 40\n",
        "NIR_DRK_THRESH = 0.15\n",
        "CLD_PRJ_DIST = 2\n",
        "BUFFER = 100\n",
        "\n",
        "if satellite == \"COPERNICUS/S2_SR_HARMONIZED\":\n",
        "      sat = 'S2SR'\n",
        "if satellite == \"LANDSAT/LT04/C01/T1_SR\":\n",
        "      sat = 'LT04'\n",
        "if satellite == \"LANDSAT/LT05/C01/T1_SR\":\n",
        "      sat = 'LT05'\n",
        "if satellite == \"LANDSAT/LE07/C01/T1_SR\":\n",
        "      sat = 'LE07'\n",
        "if satellite == \"LANDSAT/LC08/C01/T1_SR\":\n",
        "      sat = 'LC08'"
      ],
      "execution_count": null,
      "outputs": []
    },
    {
      "cell_type": "markdown",
      "source": [
        "# 3) Choose Field Boundaries file you want processed.\n",
        "\n",
        "\n",
        "*   File extension must be **.shp**\n"
      ],
      "metadata": {
        "id": "fWN5RVTw3HFP"
      }
    },
    {
      "cell_type": "code",
      "source": [
        "from google.colab import files\n",
        "shp_file = files.upload()"
      ],
      "metadata": {
        "id": "obZUeWLI5JBx"
      },
      "execution_count": null,
      "outputs": []
    },
    {
      "cell_type": "markdown",
      "source": [
        "# 4) Time to process and export images"
      ],
      "metadata": {
        "id": "VDh_Vzzv_ysA"
      }
    },
    {
      "cell_type": "code",
      "source": [
        "#Pulls geometry from the polygon\n",
        "def get_bbox_coords(pol):\n",
        "    shp_bb = shp_file[:-5] + '_bb.geojson'\n",
        "    #Convert polygon CRS to WGS84 DD\n",
        "    pol = pol.to_crs({'init': 'epsg:4326'})\n",
        "    #Create a buffer for the boundary and save as geoJSON\n",
        "    pol.envelope.to_file(filename=shp_bb, driver=\"GeoJSON\")\n",
        "    #Open GeoJSON\n",
        "    geom = json.loads(pol.envelope.to_json())['features'][0]['geometry']\n",
        "\n",
        "    return(geom)"
      ],
      "metadata": {
        "id": "QUqiwwiQVe93"
      },
      "execution_count": null,
      "outputs": []
    },
    {
      "cell_type": "code",
      "source": [
        "def get_s2_sr_cld_col(aoi, start_date, end_date):\n",
        "    # Import and filter satellite\n",
        "    s2_sr_col = (ee.ImageCollection(satellite)\n",
        "        .filterBounds(aoi)\n",
        "        .filterDate(start_date, end_date)\n",
        "        .filter(ee.Filter.lte('CLOUDY_PIXEL_PERCENTAGE', CLOUD_FILTER)))\n",
        "\n",
        "    # Import and filter s2cloudless.\n",
        "    s2_cloudless_col = (ee.ImageCollection('COPERNICUS/S2_CLOUD_PROBABILITY')\n",
        "        .filterBounds(aoi)\n",
        "        .filterDate(start_date, end_date))\n",
        "\n",
        "    # Join the filtered s2cloudless collection to the SR collection by the 'system:index' property.\n",
        "    return ee.ImageCollection(ee.Join.saveFirst('s2cloudless').apply(**{\n",
        "        'primary': s2_sr_col,\n",
        "        'secondary': s2_cloudless_col,\n",
        "        'condition': ee.Filter.equals(**{\n",
        "            'leftField': 'system:index',\n",
        "            'rightField': 'system:index'\n",
        "        })\n",
        "    }))"
      ],
      "metadata": {
        "id": "lHQ9pzyBVe_w"
      },
      "execution_count": null,
      "outputs": []
    },
    {
      "cell_type": "code",
      "source": [
        "def add_cloud_bands(img):\n",
        "    # Get s2cloudless image, subset the probability band.\n",
        "    cld_prb = ee.Image(img.get('s2cloudless')).select('probability')\n",
        "\n",
        "    # Condition s2cloudless by the probability threshold value.\n",
        "    is_cloud = cld_prb.gt(CLD_PRB_THRESH).rename('clouds')\n",
        "\n",
        "    # Add the cloud probability layer and cloud mask as image bands.\n",
        "    return img.addBands(ee.Image([cld_prb, is_cloud]))"
      ],
      "metadata": {
        "id": "efMRRhRwV6iO"
      },
      "execution_count": null,
      "outputs": []
    },
    {
      "cell_type": "code",
      "source": [
        "def add_shadow_bands(img):\n",
        "    # Identify water pixels from the SCL band.\n",
        "    not_water = img.select('SCL').neq(6)\n",
        "\n",
        "    # Identify dark NIR pixels that are not water (potential cloud shadow pixels).\n",
        "    SR_BAND_SCALE = 1e4\n",
        "    dark_pixels = img.select('B8').lt(NIR_DRK_THRESH*SR_BAND_SCALE).multiply(not_water).rename('dark_pixels')\n",
        "\n",
        "    # Determine the direction to project cloud shadow from clouds (assumes UTM projection).\n",
        "    shadow_azimuth = ee.Number(90).subtract(ee.Number(img.get('MEAN_SOLAR_AZIMUTH_ANGLE')));\n",
        "\n",
        "    # Project shadows from clouds for the distance specified by the CLD_PRJ_DIST input.\n",
        "    cld_proj = (img.select('clouds').directionalDistanceTransform(shadow_azimuth, CLD_PRJ_DIST*10)\n",
        "        .reproject(**{'crs': img.select(0).projection(), 'scale': 100})\n",
        "        .select('distance')\n",
        "        .mask()\n",
        "        .rename('cloud_transform'))\n",
        "\n",
        "    # Identify the intersection of dark pixels with cloud shadow projection.\n",
        "    shadows = cld_proj.multiply(dark_pixels).rename('shadows')\n",
        "\n",
        "    # Add dark pixels, cloud projection, and identified shadows as image bands.\n",
        "    return img.addBands(ee.Image([dark_pixels, cld_proj, shadows]))"
      ],
      "metadata": {
        "id": "c2rU0MVBV6qr"
      },
      "execution_count": null,
      "outputs": []
    },
    {
      "cell_type": "code",
      "source": [
        "def add_cld_shdw_mask(img):\n",
        "    # Add cloud component bands.\n",
        "    img_cloud = add_cloud_bands(img)\n",
        "\n",
        "    # Add cloud shadow component bands.\n",
        "    img_cloud_shadow = add_shadow_bands(img_cloud)\n",
        "\n",
        "    # Combine cloud and shadow mask, set cloud and shadow as value 1, else 0.\n",
        "    is_cld_shdw = img_cloud_shadow.select('clouds').add(img_cloud_shadow.select('shadows')).gt(0)\n",
        "\n",
        "    # Remove small cloud-shadow patches and dilate remaining pixels by BUFFER input.\n",
        "    # 20 m scale is for speed, and assumes clouds don't require 10 m precision.\n",
        "    is_cld_shdw = (is_cld_shdw.focal_min(2).focal_max(BUFFER*2/20)\n",
        "        .reproject(**{'crs': img.select([0]).projection(), 'scale': 20})\n",
        "        .rename('cloudmask'))\n",
        "\n",
        "    # Add the final cloud-shadow mask to the image.\n",
        "    return img_cloud_shadow.addBands(is_cld_shdw)"
      ],
      "metadata": {
        "id": "-73Vb6R3V8eE"
      },
      "execution_count": null,
      "outputs": []
    },
    {
      "cell_type": "code",
      "source": [
        "def apply_cld_shdw_mask(img):\n",
        "    # Subset the cloudmask band and invert it so clouds/shadow are 0, else 1.\n",
        "    not_cld_shdw = img.select('cloudmask').Not()\n",
        "\n",
        "    # Subset reflectance bands and update their masks, return the result.\n",
        "    return img.select('B.*').updateMask(not_cld_shdw)"
      ],
      "metadata": {
        "id": "YgLAB39zV868"
      },
      "execution_count": null,
      "outputs": []
    },
    {
      "cell_type": "code",
      "source": [
        "pol = gpd.read_file(shp_file)\n",
        "\n",
        "pol = pol.dissolve()\n",
        "\n",
        "pol = pol.buffer(0.005)\n",
        "\n",
        "geom = get_bbox_coords(pol)\n",
        "\n",
        "#Get coordinates from GeoJSON\n",
        "coords = geom['coordinates']\n",
        "regions = ee.Geometry.Polygon(coords)\n",
        "\n",
        "start_date = ee.Date(first_date)\n",
        "end_date = ee.Date(last_date)\n",
        "\n",
        "scale = 10\n",
        "extra = dict(sat=sat)\n",
        "s2_sr_cld_col = get_s2_sr_cld_col(regions, start_date, end_date)\n",
        "imagery = s2_sr_cld_col\n",
        "field_name_sat = f'{field_name}'+\"{id}\"\n",
        "\n",
        "print(imagery.size().getInfo())\n",
        "batch.Export.imagecollection.toDrive(imagery, folder=f'YieldCurve_{sat}_{field_name}',\n",
        "                                     region=regions, scale=scale, verbose = True,\n",
        "                                     namePattern = field_name_sat)\n",
        "time.sleep(300)\n",
        "print(\"Export tasks were a success!\")"
      ],
      "metadata": {
        "id": "wRPmT76MAGaO"
      },
      "execution_count": null,
      "outputs": []
    }
  ]
}